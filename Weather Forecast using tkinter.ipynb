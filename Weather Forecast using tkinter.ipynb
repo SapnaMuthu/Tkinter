{
 "cells": [
  {
   "cell_type": "code",
   "execution_count": 1,
   "id": "6c485509",
   "metadata": {},
   "outputs": [],
   "source": [
    "#Import the required modules\n",
    "import tkinter as tk \n",
    "from tkinter import ttk \n",
    "from PIL import Image\n",
    "#To install Beautiful Soup , use pip install requests bs4\n",
    "from bs4 import BeautifulSoup\n",
    "import requests, threading\n"
   ]
  },
  {
   "cell_type": "code",
   "execution_count": 2,
   "id": "3800dc54",
   "metadata": {},
   "outputs": [],
   "source": [
    "#User agent is a request header that provides an easy way to identify or detect the devices like mobile phones, tablets \n",
    "#and their capabilities by parsing (browser/HTTP) user agent strings \n",
    "headers = {'User-Agent': 'Mozilla/5.0 (Windows NT 10.0; Win64; x64) AppleWebKit/537.36 (KHTML, like Gecko) Chrome/58.0.3029.110 Safari/537.3'}\n",
    "\n",
    "#Define the required functions \n",
    "def Weather(*args):\n",
    "    global city\n",
    "    city1 = city.get() + \"weather\"\n",
    "    city1 = city1.replace(\" \", \"+\")\n",
    "\n",
    "    search_label['text'] = \"Searching For \"+city.get()\n",
    "    \n",
    "\n",
    "    res = requests.get(f'https://www.google.com/search?q={city1}&oq={city1}&aqs=chrome.0.35i39l2j0l4j46j69i60.6128j1j7&sourceid=chrome&ie=UTF-8',\n",
    "                       headers=headers)\n",
    "    print(res)\n",
    "    soup = BeautifulSoup(res.text, 'html.parser')\n",
    "    location = soup.select('#wob_loc')[0].getText().strip()\n",
    "    # print(soup.select('#wob_dts'))\n",
    "    time = soup.select('#wob_dts')[0].getText().strip()\n",
    "    info = soup.select('#wob_dc')[0].getText().strip()\n",
    "    weather = soup.select('#wob_tm')[0].getText().strip()\n",
    "    tk.Label(root, text=location, font='Caveat 12 bold', bg=\"#2E2E2E\", fg='#fff').place(x=130, y=250)\n",
    "    tk.Label(root, text=info, font='ROBOTO 15 bold', bg=\"#2E2E2E\", fg='#fff').place(x=130, y=220)\n",
    "    tk.Label(root, text=f'{weather}°C', font='ROBOTO 20 bold', bg=\"#2E2E2E\", fg='#fff').place(x=5, y=220)\n",
    "\n",
    "    time = time.split(',')\n",
    "    tk.Label(root, text=time[0], font='Caveat 20 bold', bg=\"#33FFDD\", fg='#2E2E2E').place(x=330, y=210)\n",
    "    tk.Label(root, text=time[1].upper(), font='ROBOTO 15 bold', bg=\"#33FFDD\", fg='#2E2E2E').place(x=325, y=240)\n",
    "    search_label['text'] = \"\"\n",
    "    entry.delete('0', tk.END)\n",
    "\n",
    "\n",
    "def call_function(*args):\n",
    "    T = threading.Thread(target=Weather, daemon=True)\n",
    "    T.start()"
   ]
  },
  {
   "cell_type": "code",
   "execution_count": 3,
   "id": "c5085804",
   "metadata": {},
   "outputs": [
    {
     "data": {
      "text/plain": [
       "''"
      ]
     },
     "execution_count": 3,
     "metadata": {},
     "output_type": "execute_result"
    }
   ],
   "source": [
    "#making tkinter Window\n",
    "root = tk.Tk()\n",
    "root.geometry('450x308')\n",
    "root.title ('Weather Forecast')\n",
    "root.resizable(False,False)\n",
    "root.iconbitmap(r'C:\\Users\\17347\\Pictures\\Saved Pictures\\cloudy.ico')\n"
   ]
  },
  {
   "cell_type": "code",
   "execution_count": 4,
   "id": "81b87216",
   "metadata": {},
   "outputs": [],
   "source": [
    "#set frames to show different content and color in window\n",
    "frame1 = tk.Frame(root,bg = '#fff',width = 450 , height = 200)\n",
    "frame1.place(x=0,y=0)\n",
    "frame2 = tk.Frame(root,bg = '#2E2E2E',width = 300 , height = 100)\n",
    "frame2.place(x=0,y=200)\n",
    "frame3 = tk.Frame(root,bg = '#33FFDD',width = 150 , height = 100)\n",
    "frame3.place(x=300,y=200)\n",
    "\n"
   ]
  },
  {
   "cell_type": "code",
   "execution_count": 5,
   "id": "969ef708",
   "metadata": {},
   "outputs": [
    {
     "name": "stdout",
     "output_type": "stream",
     "text": [
      "<Response [200]>\n"
     ]
    },
    {
     "name": "stderr",
     "output_type": "stream",
     "text": [
      "Exception in thread Thread-8:\n",
      "Traceback (most recent call last):\n",
      "  File \"C:\\Users\\17347\\anaconda3\\lib\\threading.py\", line 973, in _bootstrap_inner\n",
      "    self.run()\n",
      "  File \"C:\\Users\\17347\\anaconda3\\lib\\threading.py\", line 910, in run\n",
      "    self._target(*self._args, **self._kwargs)\n",
      "  File \"C:\\Users\\17347\\AppData\\Local\\Temp/ipykernel_23376/975948290.py\", line 29, in Weather\n",
      "IndexError: list index out of range\n"
     ]
    }
   ],
   "source": [
    "#weather details\n",
    "global city\n",
    "city = tk.StringVar()\n",
    "#make entry box for the City name \n",
    "tk.Label(root,text = \"Enter the City name\", font = (\"Arial Rounded MT Bold\",12) , \n",
    "        bg = '#fff').place(x=150,y=40)\n",
    "entry = tk.Entry (root,textvariable = city , font = (\"Arial\",13),bd = 2,\n",
    "                  justify = tk.CENTER, relief = tk.GROOVE , width = 18, bg = '#D0FFBC')\n",
    "entry.bind(\"<Return>\",call_function)\n",
    "entry.place(x=130,y=85)\n",
    "tk.Button (root,text= \"Check\",font = (\"Arial Rounded MT Bold\",10), bd =2, relief= tk.GROOVE, bg = '#D0FFBC',\n",
    "                  command= call_function).place(x=300,y=85)\n",
    "search_label = tk.Label(root,text = '',font= ('Sitka Small',12),fg ='#24292F',bg = '#fff')\n",
    "search_label.place(x=140,y=130)\n",
    "root.mainloop()\n",
    "        "
   ]
  },
  {
   "cell_type": "code",
   "execution_count": null,
   "id": "2f16c73c",
   "metadata": {},
   "outputs": [],
   "source": []
  }
 ],
 "metadata": {
  "kernelspec": {
   "display_name": "Python 3 (ipykernel)",
   "language": "python",
   "name": "python3"
  },
  "language_info": {
   "codemirror_mode": {
    "name": "ipython",
    "version": 3
   },
   "file_extension": ".py",
   "mimetype": "text/x-python",
   "name": "python",
   "nbconvert_exporter": "python",
   "pygments_lexer": "ipython3",
   "version": "3.9.7"
  }
 },
 "nbformat": 4,
 "nbformat_minor": 5
}
